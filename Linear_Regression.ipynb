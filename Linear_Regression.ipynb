{
  "nbformat": 4,
  "nbformat_minor": 0,
  "metadata": {
    "colab": {
      "name": "Linear Regression",
      "provenance": [],
      "mount_file_id": "1YHuQaFRb84u-WBqXloeYMY0V3q-HfF4h",
      "authorship_tag": "ABX9TyN9Bm4czmZIUBVhqEyCKKdx",
      "include_colab_link": true
    },
    "kernelspec": {
      "name": "python3",
      "display_name": "Python 3"
    },
    "language_info": {
      "name": "python"
    }
  },
  "cells": [
    {
      "cell_type": "markdown",
      "metadata": {
        "id": "view-in-github",
        "colab_type": "text"
      },
      "source": [
        "<a href=\"https://colab.research.google.com/github/EunSta/practice_ml/blob/main/Linear_Regression.ipynb\" target=\"_parent\"><img src=\"https://colab.research.google.com/assets/colab-badge.svg\" alt=\"Open In Colab\"/></a>"
      ]
    },
    {
      "cell_type": "markdown",
      "metadata": {
        "id": "Rw8EKXVVlG1T"
      },
      "source": [
        "**머신러닝**\n",
        "\n",
        "- 수많은 데이터를 학습시켜 거기에 있는 패턴을 찾아내는 것 \n",
        "\n",
        "- 패턴을 찾으면 패턴을 기반으로 데이터를 분류하거나 미래를 예측할 수 있다"
      ]
    },
    {
      "cell_type": "markdown",
      "metadata": {
        "id": "xdvGglH1mQta"
      },
      "source": [
        "**선형회귀**\n",
        "\n",
        "- 독립변수 : 연속형, 종속변수 : 연속형\n",
        "\n",
        "- 기본 충족 조건 : 선형성, 잔차독립성, 잔차정규성 + 등분산성, 다중공선성(독립변수가 2개 이상일 때)\n",
        "\n"
      ]
    },
    {
      "cell_type": "markdown",
      "metadata": {
        "id": "bDirSFjvuPwz"
      },
      "source": [
        "**단순회귀분석**\n",
        "\n",
        "독립변수가 하나일 때 종속변수와의 관계를 분석하여 독립변수가 종속변수에 미치는 영향을 분석하는 방법"
      ]
    },
    {
      "cell_type": "markdown",
      "metadata": {
        "id": "bEj48oU_pk3y"
      },
      "source": [
        "*sklearn에서는 x(feature)는 matrix, y(label)은 vector*"
      ]
    },
    {
      "cell_type": "code",
      "metadata": {
        "id": "TJZhTqfbWHns"
      },
      "source": [
        "import numpy as np\n",
        "import pandas as pd"
      ],
      "execution_count": 35,
      "outputs": []
    },
    {
      "cell_type": "code",
      "metadata": {
        "id": "80SawRz3WYQs"
      },
      "source": [
        "np.random.seed(1)"
      ],
      "execution_count": 8,
      "outputs": []
    },
    {
      "cell_type": "code",
      "metadata": {
        "colab": {
          "base_uri": "https://localhost:8080/"
        },
        "id": "d4WtGAqqlSu_",
        "outputId": "53cd55e3-ebab-4668-9150-f986a1306ae8"
      },
      "source": [
        "# 방법1: make_regression(modelx)\n",
        "from sklearn.datasets import make_regression\n",
        "x, y, coef = make_regression(n_samples=3, \n",
        "                             n_features=1, # 독립변수 갯수\n",
        "                             bias=100.0, \n",
        "                             coef=True, # 계수\n",
        "                             random_state = 1)\n",
        "print(x); print(y); print(coef)\n",
        "\n",
        "# y = wx + b\n",
        "# 예측값 계산\n",
        "y_pred = 39.67674742306699 * 1 + 100.0\n",
        "print('예측값 : {:2.4f}'.format(y_pred))"
      ],
      "execution_count": 24,
      "outputs": [
        {
          "output_type": "stream",
          "name": "stdout",
          "text": [
            "[[-0.61175641]\n",
            " [ 1.62434536]\n",
            " [-0.52817175]]\n",
            "[ 75.72749529 164.44874072  79.04386279]\n",
            "39.67674742306699\n",
            "예측값 : 139.6767\n"
          ]
        }
      ]
    },
    {
      "cell_type": "markdown",
      "metadata": {
        "id": "oeHdVVZLn_FC"
      },
      "source": [
        "scikit-learn 패키지를 사용한 선형회귀분석\n",
        "\n",
        "- scikit-learn 패키지를 사용하여 선형회귀분석을 하는 경우에는 linear_model 서브 패키지의 LinearRegression 클래스 사용\n",
        "\n",
        "1. LinearRegression 클래스 객체 생성 : \n",
        "fit_intercept 인수는 모형에 상수항이 있는가 없는가를 결정하는 인수. 디폴트 값 True, 만약 상수항이 없으면 fit_intercept=False 설정\n",
        "\n",
        "2. fit 메서드로 가중치 값 추정. 상수항 자동 결합\n",
        "\n",
        "3. predict 메서드로 새로운 입력 데이터에 대한 출력 데이터 예측 \n"
      ]
    },
    {
      "cell_type": "code",
      "metadata": {
        "colab": {
          "base_uri": "https://localhost:8080/"
        },
        "id": "zxZvEbBAW5DF",
        "outputId": "25c8bcfb-49a2-4ed3-f6d4-c35ed6c3c10c"
      },
      "source": [
        "# 방법2 : LinearRegression 사용(model)\n",
        "from sklearn.linear_model import LinearRegression\n",
        "x2 = x\n",
        "y2 = y\n",
        "\n",
        "# 모델 생성\n",
        "model2 = LinearRegression()\n",
        "print(model2)\n",
        "\n",
        "# 학습\n",
        "fit_model2 = model2.fit(x2, y2)\n",
        "print('계수 : ', fit_model2.coef_)\n",
        "print('절편 : ', fit_model2.intercept_)\n",
        "\n",
        "# 예측값 계산\n",
        "y_pred2 = fit_model2.predict([[1]]) # matrix 형태로 x값 넣어주기\n",
        "print('예측값 : ',y_pred2)"
      ],
      "execution_count": 29,
      "outputs": [
        {
          "output_type": "stream",
          "name": "stdout",
          "text": [
            "LinearRegression(copy_X=True, fit_intercept=True, n_jobs=None, normalize=False)\n",
            "계수 :  [39.67674742]\n",
            "절편 :  100.0\n",
            "예측값 :  [139.67674742]\n"
          ]
        }
      ]
    },
    {
      "cell_type": "markdown",
      "metadata": {
        "id": "hoZ3xClWh4oP"
      },
      "source": [
        "**최소제곱법(OLS : Ordinary Least Squares)**\n",
        "\n",
        "최소제곱법은 잔차제곱합을 최소화하는 가중치 벡터를 구하는 방법"
      ]
    },
    {
      "cell_type": "markdown",
      "metadata": {
        "id": "hCvITj_Wn09N"
      },
      "source": [
        "statsmodels 패키지를 사용한 선형회귀분석\n",
        "\n",
        "1. 독립변수, 종속변수가 모두 포함된 데이터프레임 생성\n",
        "\n",
        "2. OLS클래스 객체 생성.from_formula 메서드의 인수로 종속변수와 독립변수를 지정하는 formula 문자열을 넣는다. 1의 데이터프레임을 인수로 \n",
        "\n",
        "3. fit 메서드로 모형 추정\n",
        "scikit-learn 패키지와 달리 추정 결과는 별도의 RegressionResult 클래스 객체로 출력\n",
        "\n",
        "4. RegressionResults 클래스 객체는 결과 리포트용 summary 메서드와 예측을 위한 prediction 메서드를 제공\n"
      ]
    },
    {
      "cell_type": "code",
      "metadata": {
        "colab": {
          "base_uri": "https://localhost:8080/"
        },
        "id": "PMQgeu06fMKH",
        "outputId": "70a41220-0967-4505-dbf7-ee2d9df1a339"
      },
      "source": [
        "# 방법3 : OLS 클래스 사용(model)\n",
        "from statsmodels.formula.api import ols\n",
        "\n",
        "print(x.shape) \n",
        "x3 = x.flatten() # sklearn이 아니므로 x의 차원 낮추기(matrix가 아님)\n",
        "y3 = y\n",
        "print(x3.shape); print(y3.shape)\n",
        "\n",
        "data = np.array([x3, y3])\n",
        "df = pd.DataFrame(data.T)\n",
        "df.columns = ['x3', 'y3']\n",
        "\n",
        "# 모델생성 및 학습\n",
        "model3 = ols(formula='y3~x3', data=df).fit()\n",
        "model3.summary()\n",
        "\n",
        "# 예측\n",
        "new_df = pd.DataFrame({'x3': [1,2]})\n",
        "new_pred = model3.predict(new_df)\n",
        "print('예측값 : ', new_pred)"
      ],
      "execution_count": 57,
      "outputs": [
        {
          "output_type": "stream",
          "name": "stdout",
          "text": [
            "(3, 1)\n",
            "(3,)\n",
            "(3,)\n",
            "예측값 :  0    139.676747\n",
            "1    179.353495\n",
            "dtype: float64\n"
          ]
        },
        {
          "output_type": "stream",
          "name": "stderr",
          "text": [
            "/usr/local/lib/python3.7/dist-packages/statsmodels/stats/stattools.py:71: ValueWarning: omni_normtest is not valid with less than 8 observations; 3 samples were given.\n",
            "  \"samples were given.\" % int(n), ValueWarning)\n",
            "/usr/local/lib/python3.7/dist-packages/statsmodels/regression/linear_model.py:1708: RuntimeWarning: divide by zero encountered in double_scalars\n",
            "  return self.mse_model/self.mse_resid\n",
            "/usr/local/lib/python3.7/dist-packages/statsmodels/regression/linear_model.py:867: RuntimeWarning: divide by zero encountered in log\n",
            "  llf = -nobs2*np.log(2*np.pi) - nobs2*np.log(ssr / nobs) - nobs2\n",
            "/usr/local/lib/python3.7/dist-packages/statsmodels/stats/stattools.py:46: RuntimeWarning: invalid value encountered in double_scalars\n",
            "  dw = np.sum(diff_resids**2, axis=axis) / np.sum(resids**2, axis=axis)\n",
            "/usr/local/lib/python3.7/dist-packages/statsmodels/base/model.py:1294: RuntimeWarning: divide by zero encountered in true_divide\n",
            "  return self.params / self.bse\n"
          ]
        }
      ]
    },
    {
      "cell_type": "code",
      "metadata": {
        "id": "wiC1NNB1quWO"
      },
      "source": [
        ""
      ],
      "execution_count": null,
      "outputs": []
    }
  ]
}