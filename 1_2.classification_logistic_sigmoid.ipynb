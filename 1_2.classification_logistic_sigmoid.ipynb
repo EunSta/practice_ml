{
  "nbformat": 4,
  "nbformat_minor": 0,
  "metadata": {
    "colab": {
      "name": "1-1.classification_logistic_sigmoid2",
      "provenance": [],
      "mount_file_id": "1g8Ewwaq9wEYNBDZFLF9tVedW8rc4A0lv",
      "authorship_tag": "ABX9TyPWbM37Yhc5pecwnVzQelUy",
      "include_colab_link": true
    },
    "kernelspec": {
      "name": "python3",
      "display_name": "Python 3"
    },
    "language_info": {
      "name": "python"
    }
  },
  "cells": [
    {
      "cell_type": "markdown",
      "metadata": {
        "id": "view-in-github",
        "colab_type": "text"
      },
      "source": [
        "<a href=\"https://colab.research.google.com/github/EunSta/practice_ml/blob/main/1_2.classification_logistic_sigmoid.ipynb\" target=\"_parent\"><img src=\"https://colab.research.google.com/assets/colab-badge.svg\" alt=\"Open In Colab\"/></a>"
      ]
    },
    {
      "cell_type": "markdown",
      "metadata": {
        "id": "hguB8AG2QENH"
      },
      "source": [
        "날씨 데이터로 비 예보 예측"
      ]
    },
    {
      "cell_type": "code",
      "metadata": {
        "colab": {
          "base_uri": "https://localhost:8080/"
        },
        "id": "_Ho-sUUZQy7d",
        "outputId": "b4305a86-d7f6-4d93-c6a6-4c78bf116d2f"
      },
      "source": [
        "from google.colab import drive\n",
        "drive.mount('/content/gdrive')"
      ],
      "execution_count": 6,
      "outputs": [
        {
          "output_type": "stream",
          "name": "stdout",
          "text": [
            "Drive already mounted at /content/gdrive; to attempt to forcibly remount, call drive.mount(\"/content/gdrive\", force_remount=True).\n"
          ]
        }
      ]
    },
    {
      "cell_type": "code",
      "metadata": {
        "id": "j0erP3-pP8-a"
      },
      "source": [
        "import pandas as pd\n",
        "import statsmodels.api as sm\n",
        "import statsmodels.formula.api as smf\n",
        "from sklearn.model_selection import train_test_split\n",
        "import numpy as np"
      ],
      "execution_count": 23,
      "outputs": []
    },
    {
      "cell_type": "code",
      "metadata": {
        "colab": {
          "base_uri": "https://localhost:8080/"
        },
        "id": "WTgai1PiQVYv",
        "outputId": "bb9ed5b8-964a-477c-a470-9d6601fba65c"
      },
      "source": [
        "data = pd.read_csv('/content/gdrive/MyDrive/sample/sample/weather.csv')\n",
        "print(data.head())\n",
        "print(data.columns)"
      ],
      "execution_count": 10,
      "outputs": [
        {
          "output_type": "stream",
          "name": "stdout",
          "text": [
            "         Date  MinTemp  MaxTemp  Rainfall  ...  Cloud  Temp  RainToday  RainTomorrow\n",
            "0  2016-11-01      8.0     24.3       0.0  ...      7  23.6         No           Yes\n",
            "1  2016-11-02     14.0     26.9       3.6  ...      3  25.7        Yes           Yes\n",
            "2  2016-11-03     13.7     23.4       3.6  ...      7  20.2        Yes           Yes\n",
            "3  2016-11-04     13.3     15.5      39.8  ...      7  14.1        Yes           Yes\n",
            "4  2016-11-05      7.6     16.1       2.8  ...      7  15.4        Yes            No\n",
            "\n",
            "[5 rows x 12 columns]\n",
            "Index(['Date', 'MinTemp', 'MaxTemp', 'Rainfall', 'Sunshine', 'WindSpeed',\n",
            "       'Humidity', 'Pressure', 'Cloud', 'Temp', 'RainToday', 'RainTomorrow'],\n",
            "      dtype='object')\n"
          ]
        }
      ]
    },
    {
      "cell_type": "code",
      "metadata": {
        "colab": {
          "base_uri": "https://localhost:8080/"
        },
        "id": "cGV4U_ztRSRN",
        "outputId": "760368ae-24e1-4565-ef37-81ecee1ec8fc"
      },
      "source": [
        "# 빈 데이터프레임 생성 후, 새로운 데이터프레임 만들기\n",
        "data2 = pd.DataFrame()\n",
        "data2 = data.drop(['Date', 'RainToday'], axis=1)\n",
        "print(data2.head(2))\n",
        "\n",
        "# RainTomorrow를 종속변수로 함, 더미변수로\n",
        "data2['RainTomorrow'] = data2['RainTomorrow'].map({'Yes':1, 'No':0})\n",
        "print(data2.RainTomorrow)"
      ],
      "execution_count": 20,
      "outputs": [
        {
          "output_type": "stream",
          "name": "stdout",
          "text": [
            "   MinTemp  MaxTemp  Rainfall  Sunshine  ...  Pressure  Cloud  Temp  RainTomorrow\n",
            "0      8.0     24.3       0.0       6.3  ...    1015.0      7  23.6           Yes\n",
            "1     14.0     26.9       3.6       9.7  ...    1008.4      3  25.7           Yes\n",
            "\n",
            "[2 rows x 10 columns]\n",
            "0      1\n",
            "1      1\n",
            "2      1\n",
            "3      1\n",
            "4      0\n",
            "      ..\n",
            "361    0\n",
            "362    0\n",
            "363    0\n",
            "364    0\n",
            "365    0\n",
            "Name: RainTomorrow, Length: 366, dtype: int64\n"
          ]
        }
      ]
    },
    {
      "cell_type": "code",
      "metadata": {
        "colab": {
          "base_uri": "https://localhost:8080/"
        },
        "id": "mSDXMxXzYH1J",
        "outputId": "282005b0-eeb9-44ec-f760-18b311e22d14"
      },
      "source": [
        "# train, test 분리 \n",
        "train, test = train_test_split(data2, test_size=0.3)\n",
        "print(train.shape, test.shape)\n",
        "\n",
        "# 결측치 확인\n",
        "print(train.isnull().sum())\n",
        "print(test.isnull().any())\n",
        "# 결측치 제거\n",
        "train = train.dropna()\n",
        "test = test.dropna()\n",
        "# print(train.isnull().sum())\n",
        "# print(test.isnull().any())"
      ],
      "execution_count": 31,
      "outputs": [
        {
          "output_type": "stream",
          "name": "stdout",
          "text": [
            "(256, 10) (110, 10)\n",
            "MinTemp         0\n",
            "MaxTemp         0\n",
            "Rainfall        0\n",
            "Sunshine        2\n",
            "WindSpeed       0\n",
            "Humidity        0\n",
            "Pressure        0\n",
            "Cloud           0\n",
            "Temp            0\n",
            "RainTomorrow    0\n",
            "dtype: int64\n",
            "MinTemp         False\n",
            "MaxTemp         False\n",
            "Rainfall        False\n",
            "Sunshine         True\n",
            "WindSpeed       False\n",
            "Humidity        False\n",
            "Pressure        False\n",
            "Cloud           False\n",
            "Temp            False\n",
            "RainTomorrow    False\n",
            "dtype: bool\n",
            "MinTemp         0\n",
            "MaxTemp         0\n",
            "Rainfall        0\n",
            "Sunshine        0\n",
            "WindSpeed       0\n",
            "Humidity        0\n",
            "Pressure        0\n",
            "Cloud           0\n",
            "Temp            0\n",
            "RainTomorrow    0\n",
            "dtype: int64\n",
            "MinTemp         False\n",
            "MaxTemp         False\n",
            "Rainfall        False\n",
            "Sunshine        False\n",
            "WindSpeed       False\n",
            "Humidity        False\n",
            "Pressure        False\n",
            "Cloud           False\n",
            "Temp            False\n",
            "RainTomorrow    False\n",
            "dtype: bool\n"
          ]
        }
      ]
    },
    {
      "cell_type": "code",
      "metadata": {
        "id": "Vm5AmRXBZMgn"
      },
      "source": [
        ""
      ],
      "execution_count": null,
      "outputs": []
    }
  ]
}