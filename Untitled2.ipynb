{
  "nbformat": 4,
  "nbformat_minor": 0,
  "metadata": {
    "colab": {
      "name": "Untitled2.ipynb",
      "provenance": [],
      "mount_file_id": "1YHuQaFRb84u-WBqXloeYMY0V3q-HfF4h",
      "authorship_tag": "ABX9TyMDRPULuVuixwvFmd1FrpQd",
      "include_colab_link": true
    },
    "kernelspec": {
      "name": "python3",
      "display_name": "Python 3"
    },
    "language_info": {
      "name": "python"
    }
  },
  "cells": [
    {
      "cell_type": "markdown",
      "metadata": {
        "id": "view-in-github",
        "colab_type": "text"
      },
      "source": [
        "<a href=\"https://colab.research.google.com/github/EunSta/practice_ml/blob/main/Untitled2.ipynb\" target=\"_parent\"><img src=\"https://colab.research.google.com/assets/colab-badge.svg\" alt=\"Open In Colab\"/></a>"
      ]
    },
    {
      "cell_type": "markdown",
      "metadata": {
        "id": "Rw8EKXVVlG1T"
      },
      "source": [
        "**머신러닝**\n",
        "\n",
        "- 수많은 데이터를 학습시켜 거기에 있는 패턴을 찾아내는 것 \n",
        "\n",
        "- 패턴을 찾으면 패턴을 기반으로 데이터를 분류하거나 미래를 예측할 수 있다"
      ]
    },
    {
      "cell_type": "markdown",
      "metadata": {
        "id": "xdvGglH1mQta"
      },
      "source": [
        "**선형회귀**\n",
        "\n",
        "- 독립변수 : 연속형, 종속변수 : 연속형\n",
        "\n",
        "- 기본 충족 조건 : 선형성, 잔차독립성, 잔차정규성 + 등분산성, 다중공선성(독립변수가 2개 이상일 때)\n",
        "\n"
      ]
    },
    {
      "cell_type": "code",
      "metadata": {
        "id": "d4WtGAqqlSu_"
      },
      "source": [
        ""
      ],
      "execution_count": null,
      "outputs": []
    }
  ]
}